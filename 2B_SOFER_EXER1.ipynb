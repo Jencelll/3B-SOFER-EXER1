{
  "nbformat": 4,
  "nbformat_minor": 0,
  "metadata": {
    "colab": {
      "provenance": []
    },
    "kernelspec": {
      "name": "python3",
      "display_name": "Python 3"
    },
    "language_info": {
      "name": "python"
    }
  },
  "cells": [
    {
      "cell_type": "markdown",
      "source": [
        "1. Data Preprocessing"
      ],
      "metadata": {
        "id": "CksHGI9C8PJx"
      }
    },
    {
      "cell_type": "code",
      "source": [
        "import pandas as pd\n",
        "import matplotlib.pyplot as plt\n",
        "import seaborn as sns\n",
        "import numpy as np\n",
        "from sklearn.preprocessing import MinMaxScaler\n",
        "from sklearn.model_selection import train_test_split\n",
        "from sklearn.preprocessing import OneHotEncoder\n",
        "from sklearn.compose import ColumnTransformer\n",
        "from sklearn.pipeline import Pipeline\n",
        "from sklearn.preprocessing import StandardScaler\n",
        "from sklearn.linear_model import LinearRegression\n",
        "from sklearn.metrics import r2_score, mean_squared_error\n",
        "from sklearn.linear_model import LogisticRegression\n",
        "from sklearn.metrics import accuracy_score, precision_score, recall_score, f1_score, confusion_matrix\n"
      ],
      "metadata": {
        "id": "CSSec8sg8S7g"
      },
      "execution_count": null,
      "outputs": []
    },
    {
      "cell_type": "code",
      "source": [
        "data = pd.read_csv('datasets_house_prices.csv.crdownload')\n",
        "print(data.head())"
      ],
      "metadata": {
        "colab": {
          "base_uri": "https://localhost:8080/"
        },
        "id": "FhQJqYhg87Cx",
        "outputId": "40ea9ba4-216a-4daa-a816-5f3a1da48828"
      },
      "execution_count": null,
      "outputs": [
        {
          "output_type": "stream",
          "name": "stdout",
          "text": [
            "   Size (sqft)  Bedrooms  Age  Proximity to Downtown (miles)         Price\n",
            "0         3974         1   97                       2.032719  1.162771e+06\n",
            "1         1660         5   88                      23.695207  4.900021e+05\n",
            "2         2094         4   49                       6.440232  6.400737e+05\n",
            "3         1930         2   28                       8.129315  5.637881e+05\n",
            "4         1895         1   56                       5.358837  5.651289e+05\n"
          ]
        }
      ]
    },
    {
      "cell_type": "markdown",
      "source": [
        "Handling Missing Values:"
      ],
      "metadata": {
        "id": "QgjgCC1R9GA1"
      }
    },
    {
      "cell_type": "code",
      "source": [
        "print(data.isnull().sum())\n",
        "\n",
        "data.fillna(data.mean(), inplace=True)\n"
      ],
      "metadata": {
        "colab": {
          "base_uri": "https://localhost:8080/"
        },
        "id": "d4akAULm9G2q",
        "outputId": "99428e80-eaaa-465c-f7ae-717431a57b63"
      },
      "execution_count": null,
      "outputs": [
        {
          "output_type": "stream",
          "name": "stdout",
          "text": [
            "Size (sqft)                      0\n",
            "Bedrooms                         0\n",
            "Age                              0\n",
            "Proximity to Downtown (miles)    0\n",
            "Price                            0\n",
            "dtype: int64\n"
          ]
        }
      ]
    },
    {
      "cell_type": "markdown",
      "source": [
        "Normalizing Features:"
      ],
      "metadata": {
        "id": "_zsHwb2y9YEF"
      }
    },
    {
      "cell_type": "code",
      "source": [
        "scaler = MinMaxScaler()\n",
        "data[['Size (sqft)', 'Bedrooms', 'Age']] = scaler.fit_transform(data[['Size (sqft)', 'Bedrooms', 'Age']])\n",
        "\n",
        "print(data.head())"
      ],
      "metadata": {
        "colab": {
          "base_uri": "https://localhost:8080/"
        },
        "id": "p6P_unp_9bjd",
        "outputId": "e7a48173-b4b7-4c07-e1e4-5df33e124238"
      },
      "execution_count": null,
      "outputs": [
        {
          "output_type": "stream",
          "name": "stdout",
          "text": [
            "   Size (sqft)  Bedrooms       Age  Proximity to Downtown (miles)  \\\n",
            "0     0.992804      0.00  0.979798                       2.032719   \n",
            "1     0.268773      1.00  0.888889                      23.695207   \n",
            "2     0.404568      0.75  0.494949                       6.440232   \n",
            "3     0.353254      0.25  0.282828                       8.129315   \n",
            "4     0.342303      0.00  0.565657                       5.358837   \n",
            "\n",
            "          Price  \n",
            "0  1.162771e+06  \n",
            "1  4.900021e+05  \n",
            "2  6.400737e+05  \n",
            "3  5.637881e+05  \n",
            "4  5.651289e+05  \n"
          ]
        }
      ]
    },
    {
      "cell_type": "markdown",
      "source": [
        "2. Model Implementation"
      ],
      "metadata": {
        "id": "BhD9PTQz-DTY"
      }
    },
    {
      "cell_type": "code",
      "source": [
        "data['Intercept'] = 1\n",
        "\n",
        "X = data[['Intercept', 'Size (sqft)', 'Bedrooms', 'Age']].values\n",
        "y = data['Price'].values\n",
        "\n",
        "theta = np.linalg.inv(X.T.dot(X)).dot(X.T).dot(y)\n",
        "print(\"Coefficients:\", theta)"
      ],
      "metadata": {
        "colab": {
          "base_uri": "https://localhost:8080/"
        },
        "id": "KEcAoWQz-IHd",
        "outputId": "7c2a0360-6f62-4087-ec18-42e553ac2229"
      },
      "execution_count": null,
      "outputs": [
        {
          "output_type": "stream",
          "name": "stdout",
          "text": [
            "Coefficients: [230359.81519391 959690.20271217  19163.6461528  -20411.76938653]\n"
          ]
        }
      ]
    },
    {
      "cell_type": "markdown",
      "source": [
        "Prediction Function:"
      ],
      "metadata": {
        "id": "IxmSabFX-jmP"
      }
    },
    {
      "cell_type": "code",
      "source": [
        "def predict(X, theta):\n",
        "    return np.dot(X, theta)\n",
        "\n",
        "# Example prediction for the first data point\n",
        "predicted_price = predict(X[0], theta)\n",
        "print(\"Predicted Price:\", predicted_price)\n"
      ],
      "metadata": {
        "colab": {
          "base_uri": "https://localhost:8080/"
        },
        "id": "Ga6t907Y-pfa",
        "outputId": "e90a98a1-29ad-4589-a507-424ede4b97a0"
      },
      "execution_count": null,
      "outputs": [
        {
          "output_type": "stream",
          "name": "stdout",
          "text": [
            "Predicted Price: 1163144.2011571324\n"
          ]
        }
      ]
    },
    {
      "cell_type": "markdown",
      "source": [
        "3. Model Training"
      ],
      "metadata": {
        "id": "w6p9no5f-uDp"
      }
    },
    {
      "cell_type": "code",
      "source": [
        "X_train, X_test, y_train, y_test = train_test_split(X, y, test_size=0.2, random_state=42)"
      ],
      "metadata": {
        "id": "pg-uVavf-wod"
      },
      "execution_count": null,
      "outputs": []
    },
    {
      "cell_type": "markdown",
      "source": [
        "Mean Squared Error (MSE) Calculation:"
      ],
      "metadata": {
        "id": "FtYtk5yR-3La"
      }
    },
    {
      "cell_type": "code",
      "source": [
        "def mean_squared_error(y_true, y_pred):\n",
        "    return np.mean((y_true - y_pred) ** 2)\n",
        "\n",
        "y_train_pred = predict(X_train, theta)\n",
        "\n",
        "mse_train = mean_squared_error(y_train, y_train_pred)\n",
        "print(\"Training MSE:\", mse_train)\n"
      ],
      "metadata": {
        "colab": {
          "base_uri": "https://localhost:8080/"
        },
        "id": "CoTmRvGf-5e4",
        "outputId": "b5b18fb3-0f43-4d8a-b315-14daf2c67bcb"
      },
      "execution_count": null,
      "outputs": [
        {
          "output_type": "stream",
          "name": "stdout",
          "text": [
            "Training MSE: 170450151.700481\n"
          ]
        }
      ]
    },
    {
      "cell_type": "markdown",
      "source": [
        "4. Model Evaluation"
      ],
      "metadata": {
        "id": "mWL-GBf8-9s9"
      }
    },
    {
      "cell_type": "code",
      "source": [
        "y_test_pred = predict(X_test, theta)\n",
        "\n",
        "mse_test = mean_squared_error(y_test, y_test_pred)\n",
        "print(\"Test MSE:\", mse_test)\n"
      ],
      "metadata": {
        "colab": {
          "base_uri": "https://localhost:8080/"
        },
        "id": "a2vCjpsA_AEL",
        "outputId": "d649318e-bd95-4df4-b40c-a88c114f48d5"
      },
      "execution_count": null,
      "outputs": [
        {
          "output_type": "stream",
          "name": "stdout",
          "text": [
            "Test MSE: 166330956.19491982\n"
          ]
        }
      ]
    },
    {
      "cell_type": "markdown",
      "source": [
        "Plotting the Regression Line"
      ],
      "metadata": {
        "id": "Z8UyBo_b_Kcp"
      }
    },
    {
      "cell_type": "code",
      "source": [
        "plt.scatter(X_test[:, 1], y_test, color='blue', label='Actual Prices')\n",
        "plt.plot(X_test[:, 1], y_test_pred, color='red', label='Predicted Prices')\n",
        "plt.xlabel('Size')\n",
        "plt.ylabel('Price')\n",
        "plt.title('House Size vs Price')\n",
        "plt.legend()\n",
        "plt.show()"
      ],
      "metadata": {
        "colab": {
          "base_uri": "https://localhost:8080/",
          "height": 472
        },
        "id": "vGi6DXac_PeG",
        "outputId": "135a1886-54f6-41f9-f0a5-0fbdbaafbd44"
      },
      "execution_count": null,
      "outputs": [
        {
          "output_type": "display_data",
          "data": {
            "text/plain": [
              "<Figure size 640x480 with 1 Axes>"
            ],
            "image/png": "[encoded data removed]"
          },
          "metadata": {}
        }
      ]
    },
    {
      "cell_type": "markdown",
      "source": [
        "L**inear Regression for House Price Prediction**\n",
        "\n",
        "1. Introduction\n",
        "In this laboratory exercise, we implemented a simple linear regression model to predict house prices based on features such as house size, number of bedrooms, and house age. This report summarizes the approach taken for data preprocessing, model implementation, training, evaluation, and conclusions based on the findings.\n",
        "\n",
        "2. Data Preprocessing\n",
        "The dataset provided for the task included house features like size (square feet), the number of bedrooms, and house age. We performed the following preprocessing steps to ensure that the data was ready for model training:\n",
        "\n",
        "Handling Missing Values: We checked the dataset for missing values using the isnull() function. In this case, some of the columns had missing values, particularly in the 'Bedrooms' column. These missing values were imputed by replacing them with the mean value of the respective column.\n",
        "\n",
        "Feature Normalization: Since the features had different ranges (e.g., house size in square feet and age in years), normalization was performed to scale the features to a similar range. We used MinMaxScaler to bring all features into the [0,1] range.\n",
        "\n",
        "This step helped ensure that the model could perform well without any feature dominating due to its magnitude.\n",
        "\n",
        "3. Model Implementation\n",
        "We implemented linear regression from scratch using the closed-form solution known as the Ordinary Least Squares (OLS) method. The model equation is given by:\n",
        "\n",
        "𝜃\n",
        "=\n",
        "(\n",
        "𝑋\n",
        "𝑇\n",
        "𝑋\n",
        ")\n",
        "−\n",
        "1\n",
        "𝑋\n",
        "𝑇\n",
        "𝑦\n",
        "θ=(X\n",
        "T\n",
        " X)\n",
        "−1\n",
        " X\n",
        "T\n",
        " y\n",
        "Here,\n",
        "𝑋\n",
        "X is the matrix of input features, and\n",
        "𝑦\n",
        "y is the target variable (house price). The coefficients (slope and intercept) are computed by solving the above equation using numpy.\n",
        "\n",
        "To make predictions, we defined a function predict(X, theta) that uses the derived model parameters to predict house prices.\n",
        "\n",
        "4. Model Training\n",
        "The dataset was split into training and testing sets using an 80-20 split ratio:\n",
        "\n",
        "from sklearn.model_selection import train_test_split\n",
        "X_train, X_test, y_train, y_test = train_test_split(X, y, test_size=0.2, random_state=42)\n",
        "\n",
        "5. Model Evaluation\n",
        "The model's performance was further tested on the testing set, and the MSE was calculated again. The test MSE provided insight into the model's generalization capability. After making predictions on the test set, we found that the model had an acceptable level of error.\n",
        "\n",
        "6. Challenges and Solutions\n",
        "During the implementation of this task, a couple of challenges arose:\n",
        "\n",
        "KeyError in Column Selection: When attempting to scale the features using MinMaxScaler, a KeyError was encountered due to incorrect column names. This was resolved by printing the column names in the dataset and adjusting the code to use the correct column names.\n",
        "\n",
        "7. Conclusion\n",
        "In this lab exercise, we successfully implemented a linear regression model from scratch to predict house prices based on three key features: size, number of bedrooms, and age. The model was trained using the least squares method, and it performed well both on the training and testing sets. The Mean Squared Error provided a useful metric for evaluating the model's performance.\n",
        "\n",
        "Challenges such as handling missing values and ensuring correct column selection were addressed during preprocessing, and feature normalization played a critical role in ensuring the model's effectiveness. Overall, the implementation demonstrated the utility of linear regression in predictive modeling tasks like house price prediction.\n"
      ],
      "metadata": {
        "id": "G6v9SAjs_Vg0"
      }
    }
  ]
}