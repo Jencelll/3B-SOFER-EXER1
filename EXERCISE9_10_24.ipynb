{
  "nbformat": 4,
  "nbformat_minor": 0,
  "metadata": {
    "colab": {
      "provenance": []
    },
    "kernelspec": {
      "name": "python3",
      "display_name": "Python 3"
    },
    "language_info": {
      "name": "python"
    }
  },
  "cells": [
    {
      "cell_type": "markdown",
      "source": [
        "#Exercise 1 Propositional Logic in Python"
      ],
      "metadata": {
        "id": "gaG56EGZ5h1k"
      }
    },
    {
      "cell_type": "code",
      "source": [
        "rains = True\n",
        "\n",
        "def ground_wet(rains):\n",
        "  return rains\n",
        "\n",
        "def match_lights(ground_wet):\n",
        "  return not ground_wet\n",
        "\n",
        "if rains:\n",
        "  is_ground_wet = ground_wet(rains)\n",
        "  can_match_light = match_lights(is_ground_wet)\n",
        "\n",
        "  if can_match_light:\n",
        "    print(\"The Will light\")\n",
        "  else:\n",
        "    print(\"The match will not light\")"
      ],
      "metadata": {
        "colab": {
          "base_uri": "https://localhost:8080/"
        },
        "id": "NU2qtji35sU3",
        "outputId": "efad0f92-c1ea-4b62-f6f0-2123b978528d"
      },
      "execution_count": null,
      "outputs": [
        {
          "output_type": "stream",
          "name": "stdout",
          "text": [
            "The match will not light\n"
          ]
        }
      ]
    },
    {
      "cell_type": "markdown",
      "source": [
        "# Exercise 2 Predicate Logic Representaion\n",
        "\n",
        "- All humans are mortal\n",
        "- Socrates is human\n",
        "- Therefore Socrates is mortal"
      ],
      "metadata": {
        "id": "mMi8tRZ49ZGW"
      }
    },
    {
      "cell_type": "code",
      "source": [
        "\n",
        "def isHuman(person):\n",
        "    return person == \"Socrates\"\n",
        "\n",
        "def isMortal(person):\n",
        "  if isHuman(person):\n",
        "    return True\n",
        "  else:\n",
        "    return False\n",
        "\n",
        "person = \"Socrates\"\n",
        "\n",
        "if isMortal(person):\n",
        "  print(f\"{person} is mortal.\")\n",
        "else:\n",
        "  print(f\"{person} is not mortal.\")"
      ],
      "metadata": {
        "colab": {
          "base_uri": "https://localhost:8080/"
        },
        "id": "POZOzxmL949X",
        "outputId": "38b8fc48-d2f3-4c8c-bc4e-1cff7169b897"
      },
      "execution_count": null,
      "outputs": [
        {
          "output_type": "stream",
          "name": "stdout",
          "text": [
            "Socrates is mortal.\n"
          ]
        }
      ]
    },
    {
      "cell_type": "markdown",
      "source": [
        "#Exercise 3 Inference Technique in Logic Based System\n",
        "\n",
        "- Rule: \"if X is true, then Y is true\"\n",
        "- Fact: \"X is true\"\n",
        "- Conclusion: \"Y is true\""
      ],
      "metadata": {
        "id": "9JHrmemWAA2d"
      }
    },
    {
      "cell_type": "code",
      "source": [
        "def modus_ponens(rules, facts):\n",
        "  conclusions = []\n",
        "  for rule in rules:\n",
        "      premise, conclusion = rule\n",
        "      if premise in facts:\n",
        "        conclusions. append(conclusion)\n",
        "  return conclusions\n",
        "\n",
        "rules = [(\"X\",\"Y\",)]\n",
        "\n",
        "facts = [\"X\"]\n",
        "\n",
        "conclusions = modus_ponens(rules,facts)\n",
        "print(\"Inferred Conclusion:\", conclusions)"
      ],
      "metadata": {
        "colab": {
          "base_uri": "https://localhost:8080/"
        },
        "id": "N9oEyZISAjxo",
        "outputId": "2da9a943-0537-4a65-b96b-9cca3481772a"
      },
      "execution_count": null,
      "outputs": [
        {
          "output_type": "stream",
          "name": "stdout",
          "text": [
            "Inferred Conclusion: ['Y']\n"
          ]
        }
      ]
    },
    {
      "cell_type": "markdown",
      "source": [
        "Exercise 4 Implement a Logic Based Model in Python\n",
        "- \"If a person is hungry, they will eat\"\n",
        "- \"If a person eats, they will no longer be hungry\"\n",
        "- \"John is hungry\"\n",
        "\n"
      ],
      "metadata": {
        "id": "sej3PTnVBqTV"
      }
    },
    {
      "cell_type": "code",
      "source": [
        "class Person:\n",
        "    def __init__(self, name):\n",
        "        self.name = name\n",
        "        self.hungry = True\n",
        "\n",
        "    def eat(self):\n",
        "        \"\"\"If the person is hungry, they will eat.\"\"\"\n",
        "        if self.hungry:\n",
        "            print(f\"{self.name} is hungry and will eat.\")\n",
        "            self.hungry = False\n",
        "        else:\n",
        "            print(f\"{self.name} is not hungry and cannot eat.\")\n",
        "\n",
        "    def check_hunger(self):\n",
        "        \"\"\"Check if the person is hungry.\"\"\"\n",
        "        if self.hungry:\n",
        "            print(f\"{self.name} is still hungry.\")\n",
        "        else:\n",
        "            print(f\"{self.name} is no longer hungry.\")\n",
        "\n",
        "\n",
        "john = Person(\"John\")\n",
        "\n",
        "\n",
        "if john.hungry:\n",
        "    john.eat()\n",
        "    john.check_hunger()\n",
        "else:\n",
        "    print(f\"{john.name} is not hungry.\")\n"
      ],
      "metadata": {
        "colab": {
          "base_uri": "https://localhost:8080/"
        },
        "id": "T9y4XDuzBtiy",
        "outputId": "d4624495-f078-4334-f8c8-4720a7462783"
      },
      "execution_count": null,
      "outputs": [
        {
          "output_type": "stream",
          "name": "stdout",
          "text": [
            "John is hungry and will eat.\n",
            "John is no longer hungry.\n"
          ]
        }
      ]
    },
    {
      "cell_type": "markdown",
      "source": [
        "#Exercise 5 Implement a Logic Based Model in Python"
      ],
      "metadata": {
        "id": "1jOVPMaGEpEE"
      }
    },
    {
      "cell_type": "code",
      "source": [
        "def is_greeting(statement):\n",
        "  greetings = [\"hello\",\"hi\",\"hey\"]\n",
        "  return statement.lower() in greetings\n",
        "\n",
        "def respond(statement):\n",
        "  if is_greeting(statement):\n",
        "    return \"Hello! How can I help you today?\"\n",
        "  else:\n",
        "    return \"I am not sure how to respond to that\"\n",
        "\n",
        "user_input = input(\"User: \")\n",
        "response = respond(user_input)\n",
        "print(f\"Chatbot: (response)\")\n"
      ],
      "metadata": {
        "colab": {
          "base_uri": "https://localhost:8080/"
        },
        "collapsed": true,
        "id": "p91eQCMsEuAh",
        "outputId": "0cf18dc8-d50b-411c-8c52-04fa72038222"
      },
      "execution_count": null,
      "outputs": [
        {
          "output_type": "stream",
          "name": "stdout",
          "text": [
            "User: cel\n",
            "Chatbot: (response)\n"
          ]
        }
      ]
    },
    {
      "cell_type": "markdown",
      "source": [
        "Case Study"
      ],
      "metadata": {
        "id": "aDjloChcGMOn"
      }
    },
    {
      "cell_type": "markdown",
      "source": [
        "Objective:\n",
        "Analyze a real world case study where logic-based models are used for decision-making(e.g,AI systems or Expert Systems)\n",
        "\n",
        "Task:\n",
        "  1. Study an AI system that uses logic-based reasoning (e.g.expert systems, chatboys)\n",
        "  2. Discuss how propositional or predicate logic is applied in such systems\n",
        "  3. Reflect on the advantages and challenges of using logic-based models in real-world Applications"
      ],
      "metadata": {
        "id": "F7Hr5RvuGOf-"
      }
    },
    {
      "cell_type": "markdown",
      "source": [
        "**Logic-Based Models in AI Decision-Making**"
      ],
      "metadata": {
        "id": "K3dunIMVHdhu"
      }
    },
    {
      "cell_type": "markdown",
      "source": [
        "# **1. Case Study: MYCIN (Expert System for Medical Diagnosis)**\n",
        "One of the most famous AI systems that used logic-based reasoning is MYCIN, an expert system developed in the 1970s to assist doctors in diagnosing bacterial infections and recommending antibiotic treatments.\n",
        "\n",
        "MYCIN applied rule-based reasoning using propositional and predicate logic to make decisions. It relied on an extensive database of IF-THEN rules, which modeled the knowledge of medical experts. The system would ask a series of questions, apply logical reasoning, and provide a diagnosis with a confidence score.\n",
        "\n",
        "# **2. Application of Propositional and Predicate Logic**\n",
        "In MYCIN, propositional logic was used to represent simple facts, such as symptoms or test results. Each fact could be true or false. For example:\n",
        "\n",
        "- \"The patient has a fever\" (Propositional logic: true or false).\n",
        "Predicate logic enabled the system to represent more complex relationships. For example:\n",
        "\n",
        "- \"Bacteria X causes symptom Y\" (Predicate logic: Cause(Bacteria_X, Symptom_Y)).\n",
        "\"If Bacteria X is found in the patient's blood culture, then prescribe Antibiotic A\" (IF-THEN rule based on predicate logic).\n",
        "The system would chain together these rules and relationships to arrive at a diagnosis. For instance, if a blood test confirmed the presence of a certain bacterium, MYCIN could recommend a specific treatment based on its encoded knowledge.\n",
        "\n"
      ],
      "metadata": {
        "id": "OuMwFqu5zBZm"
      }
    },
    {
      "cell_type": "markdown",
      "source": [
        "# 3. Advantages and Challenges of Logic-Based Models\n",
        "**Advantages**\n",
        "\n",
        "- **Clear**, Transparent Decision-Making: Logic-based models, like MYCIN, provide a clear reasoning process, allowing users to understand the steps taken to reach a decision.\n",
        "- **Consistency**: The system applies rules systematically, ensuring decisions are made consistently based on available information.\n",
        "- **Modularity**: New rules can be added easily, making it possible to update the knowledge base over time.\n",
        "\n",
        "**Challenges:**\n",
        "\n",
        "- **Limited Handling of Uncertainty:** Logic-based models struggle with uncertainty unless combined with probabilistic reasoning (e.g., confidence scores in MYCIN).\n",
        "\n",
        "- **Knowledge Acquisition Bottleneck:** Gathering enough expert knowledge and translating it into logical rules can be time-consuming and difficult.\n",
        "Scalability: As the system grows, maintaining and managing an extensive rule base becomes challenging, especially for complex domains with many variables.\n",
        "Reflection\n",
        "\n",
        "- **While logic-based models**, like those used in MYCIN, are powerful for domains with well-defined rules and relationships, they can struggle in real-world applications where uncertainty, ambiguity, or incomplete knowledge is common. Combining logic-based approaches with probabilistic or learning-based models can help overcome some of these limitations, making AI systems more adaptable and scalable in complex environments."
      ],
      "metadata": {
        "id": "C4V4BwAyzeSu"
      }
    },
    {
      "cell_type": "markdown",
      "source": [
        "#**Reflection**\n",
        "\n",
        "\n",
        "While logic-based models, like those used in MYCIN, are powerful for domains with well-defined rules and relationships, they can struggle in real-world applications where uncertainty, ambiguity, or incomplete knowledge is common. Combining logic-based approaches with probabilistic or learning-based models can help overcome some of these limitations, making AI systems more adaptable and scalable in complex environments."
      ],
      "metadata": {
        "id": "T-3mjZC40K_8"
      }
    }
  ]
}